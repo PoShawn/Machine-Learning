{
 "cells": [
  {
   "cell_type": "code",
   "execution_count": 1,
   "id": "88f1cce0-18f5-46b9-a21f-30e5e7568901",
   "metadata": {},
   "outputs": [],
   "source": [
    "grid = [\n",
    "    ['0','0','0','0','0','0','0','0','0','0'],\n",
    "    ['0','1','1','1','1','0','0','0','1','1'],\n",
    "    ['0','0','1','1','1','0','1','1','1','1'],\n",
    "    ['0','0','1','1','0','0','1','1','1','1'],\n",
    "    ['0','1','1','1','0','0','1','1','1','0'],\n",
    "    ['0','0','0','0','0','0','0','0','1','0'],\n",
    "    ['0','0','0','1','1','1','0','0','1','0'],\n",
    "    ['0','0','0','1','1','1','1','0','0','0'],\n",
    "    ['0','0','0','1','1','1','1','0','0','0'],\n",
    "    ['0','0','0','0','0','0','1','0','0','0'],\n",
    "]"
   ]
  },
  {
   "cell_type": "code",
   "execution_count": 2,
   "id": "e89d199a-37bd-480a-b62f-396e45eb6727",
   "metadata": {},
   "outputs": [],
   "source": [
    "height = len(grid)\n",
    "width  = len(grid[0])"
   ]
  },
  {
   "cell_type": "code",
   "execution_count": 3,
   "id": "360b97fb-a3df-4a9f-9264-6fd7e12bb358",
   "metadata": {},
   "outputs": [],
   "source": [
    "count = 0\n",
    "i_near = 0\n",
    "j_near = 0\n",
    "for i in range(height):\n",
    "    for j in range(width):\n",
    "        if grid[i][j] == '1':\n",
    "            count += 1\n",
    "            buffer = [[i,j]]\n",
    "            grid[i][j] = '*'\n",
    "            while buffer:\n",
    "                i , j = buffer.pop(0)\n",
    "                for m , n in [[-1,0],[1,0],[0,-1],[0,1]]:\n",
    "                    i_near = i + m\n",
    "                    j_near = j + n\n",
    "                    if 0 <= i_near < height and 0 <= j_near < width:\n",
    "                        if grid[i_near][j_near] == '1':\n",
    "                            grid[i_near][j_near] = '*'\n",
    "                            buffer.append([i_near,j_near])"
   ]
  },
  {
   "cell_type": "code",
   "execution_count": 4,
   "id": "46af7585-7467-426f-9d23-810a39156f0c",
   "metadata": {},
   "outputs": [
    {
     "name": "stdout",
     "output_type": "stream",
     "text": [
      "3 Islands\n"
     ]
    }
   ],
   "source": [
    "print(str(count) + ' Islands')"
   ]
  },
  {
   "cell_type": "code",
   "execution_count": 5,
   "id": "e4ed3e34-7f8d-44b9-a6cd-08514161226f",
   "metadata": {},
   "outputs": [
    {
     "name": "stdout",
     "output_type": "stream",
     "text": [
      "[['0', '0', '0', '0', '0', '0', '0', '0', '0', '0'], ['0', '*', '*', '*', '*', '0', '0', '0', '*', '*'], ['0', '0', '*', '*', '*', '0', '*', '*', '*', '*'], ['0', '0', '*', '*', '0', '0', '*', '*', '*', '*'], ['0', '*', '*', '*', '0', '0', '*', '*', '*', '0'], ['0', '0', '0', '0', '0', '0', '0', '0', '*', '0'], ['0', '0', '0', '*', '*', '*', '0', '0', '*', '0'], ['0', '0', '0', '*', '*', '*', '*', '0', '0', '0'], ['0', '0', '0', '*', '*', '*', '*', '0', '0', '0'], ['0', '0', '0', '0', '0', '0', '*', '0', '0', '0']]\n"
     ]
    }
   ],
   "source": [
    "print(grid)"
   ]
  }
 ],
 "metadata": {
  "kernelspec": {
   "display_name": "Python 3",
   "language": "python",
   "name": "python3"
  },
  "language_info": {
   "codemirror_mode": {
    "name": "ipython",
    "version": 3
   },
   "file_extension": ".py",
   "mimetype": "text/x-python",
   "name": "python",
   "nbconvert_exporter": "python",
   "pygments_lexer": "ipython3",
   "version": "3.6.13"
  }
 },
 "nbformat": 4,
 "nbformat_minor": 5
}
