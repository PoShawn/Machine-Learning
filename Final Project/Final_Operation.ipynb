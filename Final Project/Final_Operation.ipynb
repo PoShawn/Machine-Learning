{
 "cells": [
  {
   "cell_type": "code",
   "execution_count": 1,
   "id": "85ffa75a-29d3-4067-8090-3f699a2a05ad",
   "metadata": {},
   "outputs": [],
   "source": [
    "%matplotlib inline"
   ]
  },
  {
   "cell_type": "code",
   "execution_count": 2,
   "id": "5c508781-7709-4699-a944-1aa8e0da26c7",
   "metadata": {},
   "outputs": [],
   "source": [
    "import numpy as np\n",
    "import random\n",
    "import matplotlib.pyplot as plt\n",
    "import tensorflow as tf\n",
    "import sklearn.preprocessing as sp"
   ]
  },
  {
   "cell_type": "code",
   "execution_count": 3,
   "id": "23af0b1b-9316-4434-b717-e932ae108e87",
   "metadata": {},
   "outputs": [],
   "source": [
    "Dataset = np.load('Dataset.npy')"
   ]
  },
  {
   "cell_type": "code",
   "execution_count": 4,
   "id": "d1846f9a-7554-45e2-b2b1-40c549fd00a7",
   "metadata": {},
   "outputs": [],
   "source": [
    "model = tf.keras.models.load_model('Final_model.h5')"
   ]
  },
  {
   "cell_type": "code",
   "execution_count": 5,
   "id": "c2495b40-f4d9-4de4-b352-7cf49c713d55",
   "metadata": {},
   "outputs": [],
   "source": [
    "Data_False = np.load('Data_False.npy')\n",
    "X_False = Data_False[:9]\n",
    "Y_False = Data_False[-3:]\n",
    "\n",
    "X_train       = np.load('X_train.npy')\n",
    "X_train_scl   = np.load('X_train_scl.npy')\n",
    "X_train_stdev = np.load('X_train_stdev.npy')\n",
    "X_train_mean  = np.load('X_train_mean.npy')\n",
    "Y_train_stdev = np.load('Y_train_stdev.npy')\n",
    "Y_train_mean  = np.load('Y_train_mean.npy')"
   ]
  },
  {
   "cell_type": "code",
   "execution_count": 6,
   "id": "918bae39-15cb-4550-b4bb-a0baf016d0e4",
   "metadata": {},
   "outputs": [],
   "source": [
    "FR_min = float(np.min(X_train[:,1]))\n",
    "FR_max = float(np.max(X_train[:,1]))\n",
    "RR_min = float(np.min(X_train[:,5]))\n",
    "RR_max = float(np.max(X_train[:,5]))\n",
    "B_min  = float(np.min(X_train[:,6]))\n",
    "B_max  = float(np.max(X_train[:,6]))\n",
    "QR_min = float(np.min(X_train[:,7]))\n",
    "QR_max = float(np.max(X_train[:,7]))"
   ]
  },
  {
   "cell_type": "code",
   "execution_count": 7,
   "id": "489d437b-fc26-4b56-8374-913a3afd6f56",
   "metadata": {},
   "outputs": [],
   "source": [
    "def Standardization(Data):\n",
    "    scaler = sp.StandardScaler().fit(Data)\n",
    "    scl = scaler.transform(Data)\n",
    "    return scl , scaler\n",
    "\n",
    "def Predict(X_try):\n",
    "    X_try_scl = (X_try - X_train_mean) / X_train_stdev\n",
    "    Y_predict_scl = model.predict(X_try_scl)\n",
    "    Y_predict = Y_predict_scl * Y_train_stdev + Y_train_mean\n",
    "    XME_D = Y_predict[0,1]\n",
    "    return XME_D\n",
    "\n",
    "def Err(X_try,X_False):\n",
    "    Err1 = ((X_try[0,1] - X_False[0,1]) ** 2) * (1/0.131695)\n",
    "    Err2 = ((X_try[0,5] - X_False[0,5]) ** 2) * (1/0.340098)\n",
    "    Err3 = ((X_try[0,6] - X_False[0,6]) ** 2) * (1/0.159337)\n",
    "    Err4 = ((X_try[0,7] - X_False[0,7]) ** 2) * (1/0.225232)\n",
    "    Error = Err1 + Err2 + Err3 + Err4\n",
    "    return Error\n",
    "\n",
    "def Step(i,iteration):\n",
    "    if i <= iteration * 0.1:\n",
    "        j = 1\n",
    "    elif i > iteration * 0.1 and i <= iteration * 0.5:\n",
    "        j = 0.8\n",
    "    elif i > iteration * 0.5:\n",
    "        j = 0.5\n",
    "    return j\n",
    "\n",
    "def check(item,LB,RB):\n",
    "    value = float(X_try[0,item])\n",
    "    if value < LB:\n",
    "        value = LB\n",
    "    elif value > RB:\n",
    "        value = RB\n",
    "    else:\n",
    "        value = value\n",
    "    return value"
   ]
  },
  {
   "cell_type": "code",
   "execution_count": 8,
   "id": "dba20566-e33a-4f2b-8836-f74fc1b75f88",
   "metadata": {},
   "outputs": [
    {
     "name": "stdout",
     "output_type": "stream",
     "text": [
      "[[ 2.01600000e+02  2.63000000e+00  3.80000000e+01  2.33000000e+01\n",
      "  -4.16123817e+03  1.23800000e+00  9.73300000e+01  2.72111058e+03\n",
      "  -2.52787842e+03]]\n",
      "0.979826368\n",
      "ANS:\n",
      "[[ 2.01600000e+02  2.72573697e+00  3.80000000e+01  2.33000000e+01\n",
      "  -4.16123817e+03  1.45384597e+00  9.92867802e+01  2.90704788e+03\n",
      "  -2.52787842e+03]]\n",
      "0.9917477128853102\n"
     ]
    }
   ],
   "source": [
    "X_False = np.reshape(X_False , (1,9))\n",
    "X_try = X_False.copy()\n",
    "\n",
    "Error_0 = 100000000000000\n",
    "print(X_False)\n",
    "print(Y_False[1])\n",
    "\n",
    "XME_D_new = 1\n",
    "XME_D_old = 0\n",
    "iteration = 1000\n",
    "\n",
    "for i in range(iteration):\n",
    "    j = Step(i,iteration)\n",
    "    X_try[0,1] = X_False[0,1] + 0.044259 * j * random.uniform(-1,1) #FR\n",
    "    X_try[0,5] = X_False[0,5] + 0.019979 * j * random.uniform(-1,1) #RR\n",
    "    X_try[0,6] = X_False[0,6] + 0.994289 * j * random.uniform(-1,1) #B\n",
    "    X_try[0,7] = X_False[0,7] + 29.15039 * j * random.uniform(-1,1) #QR\n",
    "    #if X_try <最小值的話 要等於最小值\n",
    "    X_try[0,1] = check(1,FR_min,FR_max)\n",
    "    X_try[0,5] = check(5,RR_min,RR_max)\n",
    "    X_try[0,6] = check(6,B_min,B_max)\n",
    "    X_try[0,7] = check(7,QR_min,QR_max)\n",
    "    XME_D_new = Predict(X_try)\n",
    "    #print('-' , end = '')\n",
    "    #print(str(i) + '--------------------')\n",
    "    #print(X_False)\n",
    "    #print(X_try)\n",
    "    #print(XME_D_new)\n",
    "    if XME_D_new >= 0.9900:\n",
    "        Error = Err(X_try,X_False)\n",
    "        X_False = X_try.copy()\n",
    "        if Error < Error_0:\n",
    "            X_ans = X_try.copy()\n",
    "            Error_0 = Error\n",
    "            XME_D_ans = XME_D_new\n",
    "    else:\n",
    "        if XME_D_new >= XME_D_old:\n",
    "            X_False = X_try.copy()\n",
    "            XME_D_old = XME_D_new\n",
    "print('ANS:')\n",
    "print(X_ans)\n",
    "print(XME_D_ans)"
   ]
  },
  {
   "cell_type": "code",
   "execution_count": 18,
   "id": "223e3829-8be7-4a78-918b-45de8b7d0ad7",
   "metadata": {},
   "outputs": [
    {
     "name": "stdout",
     "output_type": "stream",
     "text": [
      "        Current      Target\n",
      "Tin     201.6        201.6\n",
      "FR      2.63         2.73\n",
      "T1      38.0         38.0\n",
      "T2      23.3         23.3\n",
      "Qcool   -4161.24     -4161.24\n",
      "RR      1.238        1.454\n",
      "B       97.33        99.29\n",
      "QR      2721.11      2907.05\n",
      "Qc      -2527.88     -2527.88\n",
      "----------------------------------\n",
      "XME_D   0.9798         0.9917\n"
     ]
    }
   ],
   "source": [
    "print('        ' + 'Current' + '      ' + 'Target')\n",
    "print('Tin' + '     ' + str(Data_False[0]) + '        ' + str(X_ans[0,0]))\n",
    "print('FR' + '      ' + str(Data_False[1]) + '         ' + str(round(X_ans[0,1],2)))\n",
    "print('T1' + '      ' + str(Data_False[2]) + '         ' + str(X_ans[0,2]))\n",
    "print('T2' + '      ' + str(Data_False[3]) + '         ' + str(X_ans[0,3]))\n",
    "print('Qcool' + '   ' + str(round(Data_False[4],2)) + '     ' + str(round(X_ans[0,4],2)))\n",
    "print('RR' + '      ' + str(Data_False[5]) + '        ' + str(round(X_ans[0,5],3)))\n",
    "print('B' + '       ' + str(Data_False[6]) + '        ' + str(round(X_ans[0,6],2)))\n",
    "print('QR' + '      ' + str(round(Data_False[7],2)) + '      ' + str(round(X_ans[0,7],2)))\n",
    "print('Qc' + '      ' + str(round(Data_False[8],2)) + '     ' + str(round(X_ans[0,8],2)))\n",
    "print('----------------------------------')\n",
    "print('XME_D' + '   ' + str(round(Data_False[-2],4)) + '         ' + str(round(XME_D_ans,4)))"
   ]
  },
  {
   "cell_type": "code",
   "execution_count": null,
   "id": "6cd57682-cf60-47eb-8397-64cb62aa0f6b",
   "metadata": {},
   "outputs": [],
   "source": []
  }
 ],
 "metadata": {
  "kernelspec": {
   "display_name": "Python 3",
   "language": "python",
   "name": "python3"
  },
  "language_info": {
   "codemirror_mode": {
    "name": "ipython",
    "version": 3
   },
   "file_extension": ".py",
   "mimetype": "text/x-python",
   "name": "python",
   "nbconvert_exporter": "python",
   "pygments_lexer": "ipython3",
   "version": "3.6.13"
  }
 },
 "nbformat": 4,
 "nbformat_minor": 5
}
